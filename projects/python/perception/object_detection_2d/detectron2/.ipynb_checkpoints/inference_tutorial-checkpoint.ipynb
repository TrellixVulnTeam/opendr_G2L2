{
 "cells": [
  {
   "cell_type": "markdown",
   "id": "4067d53c",
   "metadata": {},
   "source": [
    "# Detectron2 tutorial\n",
    "\n",
    "This notebook provides a tutorial for running inference on a static image in order to detect objects. \n"
   ]
  },
  {
   "cell_type": "markdown",
   "id": "897e2433",
   "metadata": {},
   "source": [
    "First, we need to import the learner and initialize it:"
   ]
  },
  {
   "cell_type": "code",
   "execution_count": 2,
   "id": "06cb9483",
   "metadata": {},
   "outputs": [
    {
     "ename": "ModuleNotFoundError",
     "evalue": "No module named 'opendr'",
     "output_type": "error",
     "traceback": [
      "\u001b[0;31m---------------------------------------------------------------------------\u001b[0m",
      "\u001b[0;31mModuleNotFoundError\u001b[0m                       Traceback (most recent call last)",
      "Input \u001b[0;32mIn [2]\u001b[0m, in \u001b[0;36m<cell line: 1>\u001b[0;34m()\u001b[0m\n\u001b[0;32m----> 1\u001b[0m \u001b[38;5;28;01mfrom\u001b[39;00m \u001b[38;5;21;01mopendr\u001b[39;00m\u001b[38;5;21;01m.\u001b[39;00m\u001b[38;5;21;01mperception\u001b[39;00m\u001b[38;5;21;01m.\u001b[39;00m\u001b[38;5;21;01mobject_detection_2d\u001b[39;00m \u001b[38;5;28;01mimport\u001b[39;00m Detectron2Learner\n\u001b[1;32m      3\u001b[0m learner \u001b[38;5;241m=\u001b[39m Detectron2Learner(device\u001b[38;5;241m=\u001b[39m\u001b[38;5;124m'\u001b[39m\u001b[38;5;124mcuda\u001b[39m\u001b[38;5;124m'\u001b[39m)\n",
      "\u001b[0;31mModuleNotFoundError\u001b[0m: No module named 'opendr'"
     ]
    }
   ],
   "source": [
    "from opendr.perception.object_detection_2d import Detectron2Learner\n",
    "\n",
    "learner = Detectron2Learner(device='cuda')"
   ]
  },
  {
   "cell_type": "markdown",
   "id": "cb6e2d14",
   "metadata": {},
   "source": [
    "Note that we can alter the device (e.g., 'cpu', 'cuda', etc.), on which the model runs"
   ]
  },
  {
   "cell_type": "markdown",
   "id": "22a14f34",
   "metadata": {},
   "source": [
    "After creating our model, we need to download pre-trained weights."
   ]
  },
  {
   "cell_type": "code",
   "execution_count": 4,
   "id": "80449b2f",
   "metadata": {},
   "outputs": [
    {
     "ename": "NameError",
     "evalue": "name 'learner' is not defined",
     "output_type": "error",
     "traceback": [
      "\u001b[0;31m---------------------------------------------------------------------------\u001b[0m",
      "\u001b[0;31mNameError\u001b[0m                                 Traceback (most recent call last)",
      "Input \u001b[0;32mIn [4]\u001b[0m, in \u001b[0;36m<cell line: 1>\u001b[0;34m()\u001b[0m\n\u001b[0;32m----> 1\u001b[0m \u001b[43mlearner\u001b[49m\u001b[38;5;241m.\u001b[39mdownload(\u001b[38;5;124m\"\u001b[39m\u001b[38;5;124m.\u001b[39m\u001b[38;5;124m\"\u001b[39m)\n",
      "\u001b[0;31mNameError\u001b[0m: name 'learner' is not defined"
     ]
    }
   ],
   "source": [
    "learner.download(\".\")"
   ]
  },
  {
   "cell_type": "markdown",
   "id": "84b71ec7",
   "metadata": {},
   "source": [
    "and load our weights:"
   ]
  },
  {
   "cell_type": "code",
   "execution_count": 5,
   "id": "bd6014e7",
   "metadata": {},
   "outputs": [
    {
     "ename": "NameError",
     "evalue": "name 'detectron2' is not defined",
     "output_type": "error",
     "traceback": [
      "\u001b[0;31m---------------------------------------------------------------------------\u001b[0m",
      "\u001b[0;31mNameError\u001b[0m                                 Traceback (most recent call last)",
      "Input \u001b[0;32mIn [5]\u001b[0m, in \u001b[0;36m<cell line: 1>\u001b[0;34m()\u001b[0m\n\u001b[0;32m----> 1\u001b[0m \u001b[43mdetectron2\u001b[49m\u001b[38;5;241m.\u001b[39mload(temp \u001b[38;5;241m+\u001b[39m \u001b[38;5;124m\"\u001b[39m\u001b[38;5;124mdetectron2_default\u001b[39m\u001b[38;5;124m\"\u001b[39m, verbose\u001b[38;5;241m=\u001b[39m\u001b[38;5;28;01mTrue\u001b[39;00m)\n",
      "\u001b[0;31mNameError\u001b[0m: name 'detectron2' is not defined"
     ]
    }
   ],
   "source": [
    "detectron2.load(temp + \"detectron2_default\", verbose=True)"
   ]
  },
  {
   "cell_type": "markdown",
   "id": "7d7c2552",
   "metadata": {},
   "source": [
    "We will also download one sample image and load it, so we can use it in OpenDR for testing:"
   ]
  },
  {
   "cell_type": "code",
   "execution_count": 6,
   "id": "45ac904b",
   "metadata": {},
   "outputs": [
    {
     "ename": "NameError",
     "evalue": "name 'detectron2' is not defined",
     "output_type": "error",
     "traceback": [
      "\u001b[0;31m---------------------------------------------------------------------------\u001b[0m",
      "\u001b[0;31mNameError\u001b[0m                                 Traceback (most recent call last)",
      "Input \u001b[0;32mIn [6]\u001b[0m, in \u001b[0;36m<cell line: 1>\u001b[0;34m()\u001b[0m\n\u001b[0;32m----> 1\u001b[0m \u001b[43mdetectron2\u001b[49m\u001b[38;5;241m.\u001b[39mdownload(temp, mode\u001b[38;5;241m=\u001b[39m\u001b[38;5;124m\"\u001b[39m\u001b[38;5;124mimages\u001b[39m\u001b[38;5;124m\"\u001b[39m, verbose\u001b[38;5;241m=\u001b[39m\u001b[38;5;28;01mTrue\u001b[39;00m)\n\u001b[1;32m      4\u001b[0m \u001b[38;5;28;01mfrom\u001b[39;00m \u001b[38;5;21;01mopendr\u001b[39;00m\u001b[38;5;21;01m.\u001b[39;00m\u001b[38;5;21;01mengine\u001b[39;00m\u001b[38;5;21;01m.\u001b[39;00m\u001b[38;5;21;01mdata\u001b[39;00m \u001b[38;5;28;01mimport\u001b[39;00m Image\n\u001b[1;32m      5\u001b[0m img \u001b[38;5;241m=\u001b[39m Image\u001b[38;5;241m.\u001b[39mopen(temp \u001b[38;5;241m+\u001b[39m \u001b[38;5;124m\"\u001b[39m\u001b[38;5;124mdetectron2_default/\u001b[39m\u001b[38;5;124m\"\u001b[39m \u001b[38;5;241m+\u001b[39m \u001b[38;5;124m\"\u001b[39m\u001b[38;5;124mbolt.jpg\u001b[39m\u001b[38;5;124m\"\u001b[39m)\n",
      "\u001b[0;31mNameError\u001b[0m: name 'detectron2' is not defined"
     ]
    }
   ],
   "source": [
    "detectron2.download(temp, mode=\"images\", verbose=True)\n",
    "\n",
    "\n",
    "from opendr.engine.data import Image\n",
    "img = Image.open(temp + \"detectron2_default/\" + \"bolt.jpg\")"
   ]
  },
  {
   "cell_type": "code",
   "execution_count": 7,
   "id": "7c2b446b",
   "metadata": {},
   "outputs": [
    {
     "ename": "NameError",
     "evalue": "name 'img' is not defined",
     "output_type": "error",
     "traceback": [
      "\u001b[0;31m---------------------------------------------------------------------------\u001b[0m",
      "\u001b[0;31mNameError\u001b[0m                                 Traceback (most recent call last)",
      "Input \u001b[0;32mIn [7]\u001b[0m, in \u001b[0;36m<cell line: 4>\u001b[0;34m()\u001b[0m\n\u001b[1;32m      2\u001b[0m \u001b[38;5;28;01mimport\u001b[39;00m \u001b[38;5;21;01mcv2\u001b[39;00m\n\u001b[1;32m      3\u001b[0m \u001b[38;5;28;01mfrom\u001b[39;00m \u001b[38;5;21;01mmatplotlib\u001b[39;00m \u001b[38;5;28;01mimport\u001b[39;00m pyplot \u001b[38;5;28;01mas\u001b[39;00m plt\n\u001b[0;32m----> 4\u001b[0m plt\u001b[38;5;241m.\u001b[39mimshow(cv2\u001b[38;5;241m.\u001b[39mcvtColor(\u001b[43mimg\u001b[49m\u001b[38;5;241m.\u001b[39mopencv(), cv2\u001b[38;5;241m.\u001b[39mCOLOR_BGR2RGB))\n",
      "\u001b[0;31mNameError\u001b[0m: name 'img' is not defined"
     ]
    }
   ],
   "source": [
    "%matplotlib inline\n",
    "import cv2\n",
    "from matplotlib import pyplot as plt\n",
    "plt.imshow(cv2.cvtColor(img.opencv(), cv2.COLOR_BGR2RGB))"
   ]
  },
  {
   "cell_type": "markdown",
   "id": "eb6c95b0",
   "metadata": {},
   "source": [
    "We are now ready to use our model! The only thing that we have to do is to pass the image through the model. Note that there are standard data types supported by OpenDR. However, OpenDR also understands common data types (e.g,. OpenCV images) and automatically converts them into the most appropriate format:\n"
   ]
  },
  {
   "cell_type": "code",
   "execution_count": 9,
   "id": "7d20556e",
   "metadata": {},
   "outputs": [
    {
     "ename": "NameError",
     "evalue": "name 'detectron2' is not defined",
     "output_type": "error",
     "traceback": [
      "\u001b[0;31m---------------------------------------------------------------------------\u001b[0m",
      "\u001b[0;31mNameError\u001b[0m                                 Traceback (most recent call last)",
      "Input \u001b[0;32mIn [9]\u001b[0m, in \u001b[0;36m<cell line: 1>\u001b[0;34m()\u001b[0m\n\u001b[0;32m----> 1\u001b[0m detections \u001b[38;5;241m=\u001b[39m \u001b[43mdetectron2\u001b[49m\u001b[38;5;241m.\u001b[39minfer(img)\n",
      "\u001b[0;31mNameError\u001b[0m: name 'detectron2' is not defined"
     ]
    }
   ],
   "source": [
    "detections = detectron2.infer(img)\n",
    "bboxes = BoundingBoxList([box for kp,box in preds])"
   ]
  },
  {
   "cell_type": "markdown",
   "id": "59a9fe30",
   "metadata": {},
   "source": [
    "We can plot the results using a utility function from the Object-Detection-2D module:"
   ]
  },
  {
   "cell_type": "code",
   "execution_count": null,
   "id": "b323cd77",
   "metadata": {},
   "outputs": [],
   "source": [
    "from opendr.perception.object_detection_2d import draw_bounding_boxes\n",
    "\n",
    "img_annotated = draw_bounding_boxes(img.opencv(), detections, class_names=learner.classes, show=False)\n",
    "\n",
    "\n",
    "%matplotlib inline\n",
    "from matplotlib import pyplot as plt\n",
    "plt.imshow(cv2.cvtColor(img_annotated, cv2.COLOR_BGR2RGB))"
   ]
  }
 ],
 "metadata": {
  "kernelspec": {
   "display_name": "Python 3 (ipykernel)",
   "language": "python",
   "name": "python3"
  },
  "language_info": {
   "codemirror_mode": {
    "name": "ipython",
    "version": 3
   },
   "file_extension": ".py",
   "mimetype": "text/x-python",
   "name": "python",
   "nbconvert_exporter": "python",
   "pygments_lexer": "ipython3",
   "version": "3.8.10"
  }
 },
 "nbformat": 4,
 "nbformat_minor": 5
}
